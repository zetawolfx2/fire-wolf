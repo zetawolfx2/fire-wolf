{
  "nbformat": 4,
  "nbformat_minor": 0,
  "metadata": {
    "colab": {
      "name": "Jupiter Experiment.ipynb",
      "provenance": [],
      "authorship_tag": "ABX9TyM5fozqrFM0nw5HHvHEq4lL",
      "include_colab_link": true
    },
    "kernelspec": {
      "name": "python3",
      "display_name": "Python 3"
    }
  },
  "cells": [
    {
      "cell_type": "markdown",
      "metadata": {
        "id": "view-in-github",
        "colab_type": "text"
      },
      "source": [
        "<a href=\"https://colab.research.google.com/github/zetawolfx2/fire-wolf/blob/master/Jupiter_Experiment.ipynb\" target=\"_parent\"><img src=\"https://colab.research.google.com/assets/colab-badge.svg\" alt=\"Open In Colab\"/></a>"
      ]
    },
    {
      "cell_type": "markdown",
      "metadata": {
        "id": "OE5zXcftmZXh",
        "colab_type": "text"
      },
      "source": [
        "#My First Collab Notebook\n",
        "\n",
        "Hey there, I am **Musab Ahmed Pathan**. (Not *Moseb*, ~~Definitely not Musaaf.~~)\n",
        "\n",
        "I really like\n",
        "\n",
        "1. Food\n",
        "2. Games\n",
        "3. Coding\n",
        "\n",
        "[Here's the google homepage](http://www.google.com)\n",
        "\n",
        "Here's a cool logo:\n",
        "\n",
        "![alt text](https://github.com/adam-p/markdown-here/raw/master/src/common/images/icon48.png \"Logo Title Text 1\")\n",
        "\n",
        "Here's a quadratic equation:\n",
        "\n",
        "$$ax^2 + bx + c$$"
      ]
    },
    {
      "cell_type": "code",
      "metadata": {
        "id": "G3xkMMNGoMKI",
        "colab_type": "code",
        "colab": {
          "base_uri": "https://localhost:8080/",
          "height": 235
        },
        "outputId": "133c1d8c-08e0-4759-8bd2-70696ed22731"
      },
      "source": [
        "%time\n",
        "\n",
        "print('Table of squares')\n",
        "for i in range(10):\n",
        "  print(f'{i} times {i} = {i*i}')"
      ],
      "execution_count": 2,
      "outputs": [
        {
          "output_type": "stream",
          "text": [
            "CPU times: user 2 µs, sys: 0 ns, total: 2 µs\n",
            "Wall time: 5.25 µs\n",
            "Table of squares\n",
            "0 times 0 = 0\n",
            "1 times 1 = 1\n",
            "2 times 2 = 4\n",
            "3 times 3 = 9\n",
            "4 times 4 = 16\n",
            "5 times 5 = 25\n",
            "6 times 6 = 36\n",
            "7 times 7 = 49\n",
            "8 times 8 = 64\n",
            "9 times 9 = 81\n"
          ],
          "name": "stdout"
        }
      ]
    }
  ]
}